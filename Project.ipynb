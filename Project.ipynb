{
 "cells": [
  {
   "cell_type": "markdown",
   "metadata": {},
   "source": [
    "# Population dynamics of bacteria in the gut microbiome: a data analysis"
   ]
  },
  {
   "cell_type": "markdown",
   "metadata": {},
   "source": [
    "## Short description\n",
    "\n",
    "The project amis at analyzing data from a longitudinal (temporal) study of the bacterial populations in the gut of mice during their whole life duration. The data was collected for the aim of characterizing the microbioma, modeling the ecological interactions among the species and gaining insight into the methabolic pathways. The data was collected from fecal samples through the metagenomic teqnique known as 16smRNA sequencing. \n",
    "The project aims at providing basic analysis of the results with some statistics."
   ]
  },
  {
   "cell_type": "markdown",
   "metadata": {},
   "source": [
    "## Tasks\n",
    "\n",
    "\n",
    "1. **Preprocessing and sample composition analysis**\n",
    "\n",
    "    *  **Data preprocessing**: \n",
    "\n",
    "        group OTUs corresponding to same species, fix naming issues, double measures etc, retrieve total number of OTUs, total number of species, set up pandas DataFrames and OTU-species dictionary.\n",
    "\n",
    "    *  **Analysis of the cross-subject sample composition variability at different taxonomic-unit levels:** \n",
    "\n",
    "        Biological organisms are classified in groups on the basis of similarity. Biologists refer to these groups as \"taxonomic units\" or taxa. Different taxa are also grouped together in a higher-level group (\"taxon\") based on commonly shared features, resulting in a nested hierarcical classification. The basic scheme of modern classification makes use of $8$ levels of classification, which are, from top to bottom: $\\textit{Domain, Kindom, Phylum, Class, Order, Family, Genus, Species}$. \n",
    "\n",
    "        The task is to assess the cross-subject variability of the sample composition at the various levels of the taxonomic classification. The output will be given in the form of stacked-bar plots. (AND POSSIBLY SOME QUANTITATIVE ANALYSIS?)\n",
    "\n",
    "\n",
    "    *  **Rank Abundance Distribution (RAD):**\n",
    "    \n",
    "        The frequency of each species is computed (= #counts_species/ #counts sample) . Species are ranked with an integer index from the most frequent (i= 1) to the least frequent (i= N). The curve displaying the frequency versus the rank (so-called rank-abundance distribution, or RAD) is experimentally known to assume a lognormal or power-law -like shape, with the first few species occupying the majority of the sample, and a long tail of rare species contributing to the remaining part. The task is to plot the RAD (AND FIT WITH SOME DISTRIBUTION?)\n",
    "\n",
    "    * OTHER THINGS HERE?\n",
    " \n",
    "\n",
    "2. **Time-series analysis**\n",
    "\n",
    "    Say $\\vec{X}(t) =\\left[x_1(t), x_2(t), \\cdots x_N(t)\\right]$ is the abudance of the first N most abudant species at time t. We model $\\vec{X}(t)$ as a stochastic process, for which\n",
    "    each subject $\\vec{X}(t)$ represents a different sample path.\n",
    "\n",
    "    - non stationary (i.e. to have time dependent PDF and, consequently,expectation values $\\mathbb{E}[\\vec{X}(t)],\\ \\mathbb{E}[\\vec{X}^2(t)]$);\n",
    "    - noisy, due to both statistical measurement erros and systematic noise (mismatch of OTU-species identification, sequencing errors);\n",
    "\n",
    "    The basic analysis to perform is:\n",
    "    \n",
    "    * Compute the time dependent mean and variance $\\mathbb{E}[\\vec{X}(t)],\\, \\mathbb{E}[\\vec{X}^2(t)]$. Plot as a summary the time evolution for the mean +- std of each species\n",
    "    * Correlations: filter the most abundant species upon a certain threshold and compute their covariance matrix \n",
    "    * Autocorrelation: compute the autocorrelation function $\\mathbb{E}[x(t) \\cdot x(s)]$\n",
    "\n",
    "\n",
    "    WHAT MORE CAN BE DONE?\n"
   ]
  }
 ],
 "metadata": {
  "kernelspec": {
   "display_name": "Python 3",
   "language": "python",
   "name": "python3"
  },
  "language_info": {
   "name": "python",
   "version": "3.12.5"
  }
 },
 "nbformat": 4,
 "nbformat_minor": 2
}
