{
 "cells": [
  {
   "cell_type": "markdown",
   "metadata": {},
   "source": [
    "## Deterministic Logistic Model\n",
    "\n",
    "The deterministic logistic model represents the growth of a population, or in this case the abundance $\\lambda$ of a microbial species, constrained by the enviroment. \n",
    "The equation for DLM is: $$\\dot{\\lambda} = \\frac{1}{\\tau}\\lambda \\left(1-\\frac{\\lambda}{K}\\right)  $$\n",
    "\n",
    "This model has two parameters:\n",
    "* K: the carrying capacity, it is the maximum population size that an enviroment can sustain, given the available resources.\n",
    "* $\\tau$: ralxation time, it is related to the growth rate of the population and determines the time scale of relaxation to stationarity.\n",
    "\n",
    "1. When $\\lambda$ is small, growth is nearly exponential.\n",
    "2. When $\\lambda$ gets close to K, growth slows.\n",
    "3. When $\\lambda=K$, growth stops as $\\dot{\\lambda}=0$ "
   ]
  },
  {
   "cell_type": "markdown",
   "metadata": {},
   "source": [
    "## Stochastic logistic model\n",
    "\n",
    "The stochastic version of the model introduces some randomness due to enviromental fluctuatons by adding a noise term, which better reflects real-world variability:\n",
    "$$\\dot{\\lambda} = \\frac{1}{\\tau}\\lambda \\left(1-\\frac{\\lambda}{K}\\right)  + \\lambda \\sqrt{\\frac{\\sigma}{\\tau}}\\xi(t) $$\n",
    "where $\\xi(t)$ is the Gaussian white noise.\n",
    "\n",
    "This model has three parameters: \n",
    "* K, $\\tau$ previously described.\n",
    "* $\\sigma$: it measures the intensity of the enviromental noise. \n",
    "\n",
    "The SLM does not include interaction among species and therefore cannot reproduce patterns of interspecies correlation. However, it correctly reproduces several patterns of the dynamics of a single species, including fluctuations and possible extinction events in small populations."
   ]
  },
  {
   "cell_type": "markdown",
   "metadata": {},
   "source": [
    "## Lotka-Volterra model\n",
    "\n",
    "The Lotka-volterra model extends population dynamics by incorporating interactions between species, such as competition or mutualism. \n",
    "\n"
   ]
  }
 ],
 "metadata": {
  "language_info": {
   "name": "python"
  }
 },
 "nbformat": 4,
 "nbformat_minor": 2
}
